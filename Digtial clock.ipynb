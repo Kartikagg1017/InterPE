{
 "cells": [
  {
   "cell_type": "markdown",
   "id": "78c71323-529a-486e-89eb-13f3bb9cc4dc",
   "metadata": {},
   "source": [
    "# InterPE - Python Programming Internship "
   ]
  },
  {
   "cell_type": "markdown",
   "id": "fcb617e3-6799-4eef-a1ac-271178ad0ed2",
   "metadata": {},
   "source": [
    "## TASK 1 - Create a Digital Clock"
   ]
  },
  {
   "cell_type": "code",
   "execution_count": null,
   "id": "96c5edb8-6fb5-4d0c-af84-52a25dd20456",
   "metadata": {},
   "outputs": [],
   "source": [
    "import tkinter as tk\n",
    "import time\n",
    "\n",
    "def update_clock():\n",
    "    current_time = time.strftime('%H:%M:%S %p')\n",
    "    clock_label.config(text=current_time)\n",
    "    clock_label.after(1000, update_clock)\n",
    "\n",
    "# Create the main window\n",
    "root = tk.Tk()\n",
    "root.title(\"Digital Clock\")\n",
    "\n",
    "# Create a label to display the clock\n",
    "clock_label = tk.Label(root, font=('Helvetica', 48),background='#C9CBA3', fg='#472D30')\n",
    "clock_label.pack(padx=20, pady=20)\n",
    "\n",
    "# Run the update_clock function to update the time\n",
    "update_clock()\n",
    "\n",
    "# Start the main loop\n",
    "root.mainloop()"
   ]
  },
  {
   "cell_type": "code",
   "execution_count": null,
   "id": "8f348d1f-0774-4ffb-bdb5-8cfee7ef652f",
   "metadata": {},
   "outputs": [],
   "source": []
  }
 ],
 "metadata": {
  "kernelspec": {
   "display_name": "Python 3 (ipykernel)",
   "language": "python",
   "name": "python3"
  },
  "language_info": {
   "codemirror_mode": {
    "name": "ipython",
    "version": 3
   },
   "file_extension": ".py",
   "mimetype": "text/x-python",
   "name": "python",
   "nbconvert_exporter": "python",
   "pygments_lexer": "ipython3",
   "version": "3.11.7"
  }
 },
 "nbformat": 4,
 "nbformat_minor": 5
}
