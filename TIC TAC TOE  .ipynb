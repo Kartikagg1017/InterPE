{
 "cells": [
  {
   "cell_type": "markdown",
   "id": "847c3653-dc34-4631-abdf-eb22228ff626",
   "metadata": {},
   "source": [
    "# InterPE - Python Programming Internship "
   ]
  },
  {
   "cell_type": "markdown",
   "id": "ae311e25-fab0-438e-811b-9c2d6d824519",
   "metadata": {},
   "source": [
    "## TASK 2 - Make a TIC TAC TOE Game"
   ]
  },
  {
   "cell_type": "markdown",
   "id": "c7d28983-5d66-4306-b61c-c8acf8c8aceb",
   "metadata": {},
   "source": [
    "### Multiplayer"
   ]
  },
  {
   "cell_type": "code",
   "execution_count": 1,
   "id": "03d46145-6517-40f8-9a19-67b912fbd9d2",
   "metadata": {},
   "outputs": [
    {
     "name": "stdout",
     "output_type": "stream",
     "text": [
      "  |   |  \n",
      "-----\n",
      "  |   |  \n",
      "-----\n",
      "  |   |  \n",
      "-----\n"
     ]
    },
    {
     "name": "stdin",
     "output_type": "stream",
     "text": [
      "Player X, enter row and column (e.g., '1 2'):  1 1\n"
     ]
    },
    {
     "name": "stdout",
     "output_type": "stream",
     "text": [
      "X |   |  \n",
      "-----\n",
      "  |   |  \n",
      "-----\n",
      "  |   |  \n",
      "-----\n"
     ]
    },
    {
     "name": "stdin",
     "output_type": "stream",
     "text": [
      "Player O, enter row and column (e.g., '1 2'):  2 1\n"
     ]
    },
    {
     "name": "stdout",
     "output_type": "stream",
     "text": [
      "X |   |  \n",
      "-----\n",
      "O |   |  \n",
      "-----\n",
      "  |   |  \n",
      "-----\n"
     ]
    },
    {
     "name": "stdin",
     "output_type": "stream",
     "text": [
      "Player X, enter row and column (e.g., '1 2'):  1 2\n"
     ]
    },
    {
     "name": "stdout",
     "output_type": "stream",
     "text": [
      "X | X |  \n",
      "-----\n",
      "O |   |  \n",
      "-----\n",
      "  |   |  \n",
      "-----\n"
     ]
    },
    {
     "name": "stdin",
     "output_type": "stream",
     "text": [
      "Player O, enter row and column (e.g., '1 2'):  3 1\n"
     ]
    },
    {
     "name": "stdout",
     "output_type": "stream",
     "text": [
      "X | X |  \n",
      "-----\n",
      "O |   |  \n",
      "-----\n",
      "O |   |  \n",
      "-----\n"
     ]
    },
    {
     "name": "stdin",
     "output_type": "stream",
     "text": [
      "Player X, enter row and column (e.g., '1 2'):  3 1\n"
     ]
    },
    {
     "name": "stdout",
     "output_type": "stream",
     "text": [
      "That cell is already taken. Try again.\n",
      "X | X |  \n",
      "-----\n",
      "O |   |  \n",
      "-----\n",
      "O |   |  \n",
      "-----\n"
     ]
    },
    {
     "name": "stdin",
     "output_type": "stream",
     "text": [
      "Player X, enter row and column (e.g., '1 2'):  1 3\n"
     ]
    },
    {
     "name": "stdout",
     "output_type": "stream",
     "text": [
      "X | X | X\n",
      "-----\n",
      "O |   |  \n",
      "-----\n",
      "O |   |  \n",
      "-----\n",
      "Player X wins!\n"
     ]
    }
   ],
   "source": [
    "def print_board(board):\n",
    "    # Function to print the current state of the board\n",
    "    for row in board:\n",
    "        print(\" | \".join(row))\n",
    "        print(\"-\" * 5)\n",
    "\n",
    "def check_winner(board, player):\n",
    "    # Function to check if the specified player has won the game\n",
    "    # Check rows\n",
    "    for row in board:\n",
    "        if all(cell == player for cell in row):\n",
    "            return True\n",
    "    # Check columns\n",
    "    for col in range(3):\n",
    "        if all(board[row][col] == player for row in range(3)):\n",
    "            return True\n",
    "    # Check diagonals\n",
    "    if all(board[i][i] == player for i in range(3)) or \\\n",
    "       all(board[i][2-i] == player for i in range(3)):\n",
    "        return True\n",
    "    return False\n",
    "\n",
    "def is_board_full(board):\n",
    "    # Function to check if the board is full\n",
    "    for row in board:\n",
    "        for cell in row:\n",
    "            if cell == \" \":\n",
    "                return False\n",
    "    return True\n",
    "\n",
    "def play_game():\n",
    "    # Function to play the Tic Tac Toe game\n",
    "    board = [[\" \" for _ in range(3)] for _ in range(3)]  # Initialize an empty board\n",
    "    current_player = \"X\"  # Start with player X\n",
    "    \n",
    "    while True:\n",
    "        print_board(board)  # Print the current state of the board\n",
    "        \n",
    "        # Player's turn\n",
    "        move = input(f\"Player {current_player}, enter row and column (e.g., '1 2'): \")\n",
    "        row, col = map(int, move.split())  # Split input into row and column\n",
    "        row -= 1  # Convert to zero-based indexing\n",
    "        col -= 1\n",
    "        \n",
    "        # Check if the input is within the valid range\n",
    "        if not (0 <= row < 3) or not (0 <= col < 3):\n",
    "            print(\"Invalid input. Please enter row and column numbers between 1 and 3.\")\n",
    "            continue\n",
    "        \n",
    "        # Check if the selected cell is already taken\n",
    "        if board[row][col] != \" \":\n",
    "            print(\"That cell is already taken. Try again.\")\n",
    "            continue\n",
    "        \n",
    "        # Place the player's mark on the board\n",
    "        board[row][col] = current_player\n",
    "        \n",
    "        # Check if the current player has won\n",
    "        if check_winner(board, current_player):\n",
    "            print_board(board)\n",
    "            print(f\"Player {current_player} wins!\")\n",
    "            break\n",
    "        # Check if the board is full (resulting in a tie)\n",
    "        elif is_board_full(board):\n",
    "            print_board(board)\n",
    "            print(\"It's a tie!\")\n",
    "            break\n",
    "        \n",
    "        # Switch to the other player for the next turn\n",
    "        current_player = \"O\" if current_player == \"X\" else \"X\"\n",
    "\n",
    "play_game()  # Start the game\n"
   ]
  },
  {
   "cell_type": "markdown",
   "id": "bf6ebc87-4418-4a22-995e-a99b100e5a4d",
   "metadata": {},
   "source": [
    "### Singleplayer"
   ]
  },
  {
   "cell_type": "code",
   "execution_count": 2,
   "id": "041e7231-8f9d-409c-8150-f17e7ef606cf",
   "metadata": {},
   "outputs": [
    {
     "name": "stdout",
     "output_type": "stream",
     "text": [
      "  |   |  \n",
      "-----\n",
      "  |   |  \n",
      "-----\n",
      "  |   |  \n",
      "-----\n"
     ]
    },
    {
     "name": "stdin",
     "output_type": "stream",
     "text": [
      "Enter row (1-3) and column (1-3) for your move:  1 1\n"
     ]
    },
    {
     "name": "stdout",
     "output_type": "stream",
     "text": [
      "X |   |  \n",
      "-----\n",
      "  |   |  \n",
      "-----\n",
      "  |   |  \n",
      "-----\n",
      "X | O |  \n",
      "-----\n",
      "  |   |  \n",
      "-----\n",
      "  |   |  \n",
      "-----\n"
     ]
    },
    {
     "name": "stdin",
     "output_type": "stream",
     "text": [
      "Enter row (1-3) and column (1-3) for your move:  1 2\n"
     ]
    },
    {
     "name": "stdout",
     "output_type": "stream",
     "text": [
      "That cell is already taken. Try again.\n"
     ]
    },
    {
     "name": "stdin",
     "output_type": "stream",
     "text": [
      "Enter row (1-3) and column (1-3) for your move:  3 1\n"
     ]
    },
    {
     "name": "stdout",
     "output_type": "stream",
     "text": [
      "X | O |  \n",
      "-----\n",
      "  |   |  \n",
      "-----\n",
      "X |   |  \n",
      "-----\n",
      "X | O | O\n",
      "-----\n",
      "  |   |  \n",
      "-----\n",
      "X |   |  \n",
      "-----\n"
     ]
    },
    {
     "name": "stdin",
     "output_type": "stream",
     "text": [
      "Enter row (1-3) and column (1-3) for your move:  2 1\n"
     ]
    },
    {
     "name": "stdout",
     "output_type": "stream",
     "text": [
      "X | O | O\n",
      "-----\n",
      "X |   |  \n",
      "-----\n",
      "X |   |  \n",
      "-----\n",
      "X wins!\n"
     ]
    }
   ],
   "source": [
    "import random\n",
    "\n",
    "def print_board(board):\n",
    "    # Function to print the current state of the board\n",
    "    for row in board:\n",
    "        print(\" | \".join(row))\n",
    "        print(\"-\" * 5)\n",
    "\n",
    "def check_winner(board, player):\n",
    "    # Function to check if the specified player has won the game\n",
    "    # Check rows and columns\n",
    "    for i in range(3):\n",
    "        if all(board[i][j] == player for j in range(3)) or \\\n",
    "           all(board[j][i] == player for j in range(3)):\n",
    "            return True\n",
    "    # Check diagonals\n",
    "    if all(board[i][i] == player for i in range(3)) or \\\n",
    "       all(board[i][2-i] == player for i in range(3)):\n",
    "        return True\n",
    "    return False\n",
    "\n",
    "def is_board_full(board):\n",
    "    # Function to check if the board is full\n",
    "    return all(cell != \" \" for row in board for cell in row)\n",
    "\n",
    "def get_player_move(board):\n",
    "    # Function to get the player's move\n",
    "    while True:\n",
    "        try:\n",
    "            row, col = map(int, input(\"Enter row (1-3) and column (1-3) for your move: \").split())\n",
    "            if board[row-1][col-1] == \" \":\n",
    "                return row - 1, col - 1\n",
    "            else:\n",
    "                print(\"That cell is already taken. Try again.\")\n",
    "        except ValueError:\n",
    "            print(\"Invalid input. Please enter two integers separated by space.\")\n",
    "\n",
    "def get_ai_move(board):\n",
    "    # Function to get the AI's move\n",
    "    available_moves = [(i, j) for i in range(3) for j in range(3) if board[i][j] == \" \"]\n",
    "    return random.choice(available_moves)\n",
    "\n",
    "def play_game():\n",
    "    # Function to play the Tic Tac Toe game\n",
    "    board = [[\" \"]*3 for _ in range(3)]  # Initialize an empty board\n",
    "    player = \"X\"  # Player symbol\n",
    "    ai = \"O\"  # AI symbol\n",
    "    \n",
    "    while True:\n",
    "        print_board(board)  # Print the current state of the board\n",
    "        \n",
    "        # Player's turn\n",
    "        if player == \"X\":\n",
    "            row, col = get_player_move(board)\n",
    "            board[row][col] = player\n",
    "        # AI's turn\n",
    "        else:\n",
    "            row, col = get_ai_move(board)\n",
    "            board[row][col] = player\n",
    "        \n",
    "        # Check if the current player has won\n",
    "        if check_winner(board, player):\n",
    "            print_board(board)\n",
    "            print(f\"{player} wins!\")\n",
    "            break\n",
    "        # Check if the board is full (resulting in a tie)\n",
    "        elif is_board_full(board):\n",
    "            print_board(board)\n",
    "            print(\"It's a tie!\")\n",
    "            break\n",
    "        \n",
    "        # Switch to the other player for the next turn\n",
    "        player = \"X\" if player == \"O\" else \"O\"\n",
    "\n",
    "play_game()  # Start the game\n"
   ]
  },
  {
   "cell_type": "code",
   "execution_count": null,
   "id": "f7e6406b-1ca6-4a65-ae02-941fa88caa6e",
   "metadata": {},
   "outputs": [],
   "source": []
  }
 ],
 "metadata": {
  "kernelspec": {
   "display_name": "Python 3 (ipykernel)",
   "language": "python",
   "name": "python3"
  },
  "language_info": {
   "codemirror_mode": {
    "name": "ipython",
    "version": 3
   },
   "file_extension": ".py",
   "mimetype": "text/x-python",
   "name": "python",
   "nbconvert_exporter": "python",
   "pygments_lexer": "ipython3",
   "version": "3.11.7"
  }
 },
 "nbformat": 4,
 "nbformat_minor": 5
}
